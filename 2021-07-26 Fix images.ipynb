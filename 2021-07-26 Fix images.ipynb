{
 "cells": [
  {
   "cell_type": "code",
   "execution_count": 10,
   "id": "6b4cb246-db7e-43bf-8f6e-70501404af59",
   "metadata": {},
   "outputs": [],
   "source": [
    "fname='content/articles/art_math.md'"
   ]
  },
  {
   "cell_type": "code",
   "execution_count": 11,
   "id": "7ac4fd90-375d-4413-8474-d0e20f81f805",
   "metadata": {},
   "outputs": [],
   "source": [
    "with open(fname) as fid:\n",
    "    lines=fid.readlines()"
   ]
  },
  {
   "cell_type": "code",
   "execution_count": 12,
   "id": "8613a533-74ed-4ed1-b104-607ee3055468",
   "metadata": {},
   "outputs": [
    {
     "name": "stdout",
     "output_type": "stream",
     "text": [
      "images/artmath.jpg\n",
      "content/articles/art_math.md\n"
     ]
    }
   ],
   "source": [
    "stop=False\n",
    "image_fname=None\n",
    "for line in lines:\n",
    "    if ':' in line:\n",
    "        continue\n",
    "    if not line.strip():\n",
    "        continue\n",
    "    if line.startswith(\"![\"):\n",
    "        image_fname=line.split(\"(\")[1].split(\")\")[0]\n",
    "        break\n",
    "        \n",
    "    break\n",
    "    \n",
    "if image_fname:\n",
    "    print(image_fname)\n",
    "    new_lines=[]\n",
    "    flag=False\n",
    "    for line in lines:\n",
    "        if ':' in line:\n",
    "            new_lines.append(line)\n",
    "            continue\n",
    "            \n",
    "        if not line.strip() and not flag:  # only do first\n",
    "            flag=True\n",
    "            continue\n",
    "            \n",
    "        if line.startswith(\"![\"):\n",
    "            new_lines.append(\"image: %s\\n\" % image_fname)\n",
    "            new_lines.append(\"\\n\")\n",
    "            continue\n",
    "\n",
    "        new_lines.append(line)\n",
    "        \n",
    "    print(fname)\n",
    "    with open(fname,'w') as fid:\n",
    "        fid.write(''.join(new_lines))"
   ]
  },
  {
   "cell_type": "code",
   "execution_count": null,
   "id": "9099b21f-6c32-4466-b71a-9ec3dd74d977",
   "metadata": {},
   "outputs": [],
   "source": []
  }
 ],
 "metadata": {
  "kernelspec": {
   "display_name": "Python 3",
   "language": "python",
   "name": "python3"
  },
  "language_info": {
   "codemirror_mode": {
    "name": "ipython",
    "version": 3
   },
   "file_extension": ".py",
   "mimetype": "text/x-python",
   "name": "python",
   "nbconvert_exporter": "python",
   "pygments_lexer": "ipython3",
   "version": "3.8.10"
  }
 },
 "nbformat": 4,
 "nbformat_minor": 5
}
