{
 "cells": [
  {
   "cell_type": "code",
   "execution_count": 6,
   "id": "85d6973e-7879-4cf7-addd-2672c2cd46eb",
   "metadata": {},
   "outputs": [
    {
     "data": {
      "text/plain": [
       "['https://youtu.be/VrIvwPConv0?si=_qBCVAM6cO_QFDQZ\\n',\n",
       " '\\n',\n",
       " '0:00\\n',\n",
       " 'what I am amazed at is that serious\\n',\n",
       " '0:02\\n',\n",
       " 'thinkers today continue to ask us to\\n',\n",
       " '0:06\\n',\n",
       " \"choose between God and science that's\\n\",\n",
       " '0:09\\n',\n",
       " 'like asking people to choose between\\n']"
      ]
     },
     "execution_count": 6,
     "metadata": {},
     "output_type": "execute_result"
    }
   ],
   "source": [
    "with open(\"transcript.txt\") as fid:\n",
    "    lines=fid.readlines()\n",
    "lines[:10]"
   ]
  },
  {
   "cell_type": "code",
   "execution_count": 12,
   "id": "c22cca20-0fdf-4d77-8a80-47adc0e13787",
   "metadata": {},
   "outputs": [],
   "source": [
    "url=\"https://youtu.be/VrIvwPConv0?si=5nveCWNxdxPjsFcq&t=60\"\n",
    "url=\"https://youtu.be/VrIvwPConv0?si=5nveCWNxdxPjsFcq\"\n",
    "lines=[_.strip() for _ in lines[2:]]"
   ]
  },
  {
   "cell_type": "code",
   "execution_count": 10,
   "id": "b2bb906f-6b2a-4ebb-96c3-21945d954df5",
   "metadata": {},
   "outputs": [],
   "source": [
    "NS=\"\"\n",
    "last_time=0\n",
    "duration_minutes=0.5\n",
    "block=[]\n",
    "for line in lines:\n",
    "    if not line:\n",
    "        continue\n",
    "    if line[0] in '0123456789' and ':' in line:\n",
    "        parts=line.split(\":\")\n",
    "        if len(parts)==2:\n",
    "            h=0\n",
    "            m=int(parts[0])\n",
    "            s=int(parts[1])\n",
    "        else:\n",
    "            h=int(parts[0])\n",
    "            m=int(parts[1])\n",
    "            s=int(parts[2])\n",
    "            \n",
    "        current_time=h*60+m+s/60\n",
    "        seconds=int(current_time*60)\n",
    "        if not block:\n",
    "            block.append(f\"{url}&t={seconds}\")\n",
    "            block.append(line)\n",
    "\n",
    "        continue\n",
    "            \n",
    "    block.append(line)\n",
    "    \n",
    "    if current_time-last_time>duration_minutes:\n",
    "        last_time=current_time\n",
    "        NS+=' '.join(block)\n",
    "        NS+=\"\\n\\n\"\n",
    "        block=[]\n",
    "        \n",
    "if block:\n",
    "    NS+=' '.join(block)\n",
    "    "
   ]
  },
  {
   "cell_type": "code",
   "execution_count": 11,
   "id": "16759154-a9b8-4d47-a23f-c126d936d5c6",
   "metadata": {},
   "outputs": [
    {
     "name": "stdout",
     "output_type": "stream",
     "text": [
      "0:00 what I am amazed at is that serious thinkers today continue to ask us to choose between God and science that's like asking people to choose between Henry Ford and Engineering as an explanation of the Motorcar what you're about to listen to is absolutely exceptional it's John Linux with Oxford Union making his case for God it's extremely dense he packs a lot into a little amount of time so feel free to pause rewind whatever you need to to make sure that you're really grasping\n",
      "\n",
      "0:33 each and every idea that he lays out with that being said let's go ahead and dive in I believe in God I believe in the Supernatural God who created the heavens and the earth I believe in a God who holds the heavens and the Earth in existence I believe that on the basis of rational evidence and as we look at at the rise of Science and the 16th and 17th centuries Alfred North Whitehead and many others commented that men\n",
      "\n",
      "1:06 became scientific because they expected law in nature and they expected law in nature because they believed in a lawgiver so ladies and gentlemen I'm not ashamed of being both a scientist and a Christian because arguably Christianity gave me my subject what I am amazed at is that serious thinkers today continue to ask us to choose between God and science that's like asking people to choose between Henry Ford and\n",
      "\n",
      "1:36 Engineering as an explanation of the motor car so good when Newton discovered his law of gravity he didn't say I've got a law I don't need God no he wrote the principia Mathematica arguably the greatest work in the whole history of science because he saw that God is not the same kind of explanation as a scientific explanation God doesn't compete agency does not compete with mechanism and law why is there something rather than\n",
      "\n",
      "2:07 nothing Alan Sandage the brilliant cosmologist who became a Christian in his 50s said God is the answer to that question but people are now so desperate to show that the universe created itself from nothing which seems to me to be an immediate oxymoron if I say x created y I'm assuming the existence of x to explain the existence of Y if I say X created X I'm assuming the existence of x to explain the existence of X which simply shows that nonsense remains\n",
      "\n",
      "2:36 nonsense even if High powerered scientists utter it that might be worth rewinding in case you missed it the first time that is such a good point it reminds me a little bit of GK Chester and who said it is absurd to complain that it is Unthinkable for an unthinkable God to make everything out of nothing and then to pretend that it is more thinkable that nothing should turn itself into everything thing the heavens declare the glory of God says the ancient Psalm and we've unraveled a bit of that seeing the fine choing of the\n",
      "\n",
      "3:10 fundamental forces of nature it's something that's so striking to scientists that it demands explanation and it seems to me that arop penus hit it right he is the Nobel Prize winner who discovered the microwave background on which a lot of the evidence for the big is based he said astronomy leads us to a unique event a universe which was created out of nothing one with the very delicate balance needed to provide exactly the right conditions required to permit life\n",
      "\n",
      "3:42 and one which has an underlying one might say Supernatural plan but I want to come to what I think is one of the fundamental Arguments for theism I take it this house believes in reason that's why we're all here and as a scientist I believe that the universe is rationally intelligible that is something that has struck some of the Geniuses of science as demanding an\n",
      "\n",
      "4:13 explanation Einstein said the only incomprehensible thing about the universe is that it's comprehensible and vigner talked about the unreasonable effectiveness of mathematics how is it that a mathematician thinking in her head in here can come up with equations that it seemed to fit the universe out there well how is it indeed because the irony of the atheist position here is evident my atheist friends and I have many of them tell me that the driving force of evolution which eventually produced our human cognitive faculties\n",
      "\n",
      "4:45 reason included was not primarily concerned with truth at all but with survival and we all know ladies and gentlemen what has often happened and still happens to truth when individuals or commercial Enterprises or nations feel themselves threatened and struggle for survival a leading philosopher Alvin planting of notredame says if atheists are right that we are the product of mindless unguided natural processes then they have given us strong reason to doubt the reliability of human cognitive\n",
      "\n",
      "5:17 faculties and therefore inevitably to doubt the validity of any belief that they produce including their atheism their biology and their belief in naturalism would therefore appear to be at war with each other in a conflict that is nothing at all to do with God yet my atheist friends still insist that it is rational for them to believe that the evolution of human reason was not directed for the purpose of discovering truth and yet it is irrational for me to believe that human reason was designed\n",
      "\n",
      "5:49 and created by God to enable us to understand and believe the truth curious logic by contrast with that biblical theism asserts that Ultimate Reality is personal and intelligent and the reason science works and this was the motivating force that drove the great pioneers of science is that the Universe out there and the human mind in here that does the science are ultimately the product of the same intelligent Divine mind human beings are made we are told\n",
      "\n",
      "6:24 in God's image and that means that science can be done that makes infinitely more sense to me as a scientist than atheism does now let me come briefly to ethics ethical Behavior like rational behavior of course does not itself require religious belief this is consistent with the fact that humans are created in God's image as rational moral persons but just as I suggest that rationality cannot be explained without the\n",
      "\n",
      "6:56 existence of God so I dare to suggest that that the existence of morality cannot be explained either as modern science sprang from judeo-christian sources so did the concept of human equality listen to atheist Jurgen habas arguably one of Germany's leading intellectuals he said that universalistic egalitarianism from which sprang the ideals of freedom and a collective life and solidarity the individual morality of conscience human rights and democracy is the direct\n",
      "\n",
      "7:27 Legacy of the judaic ethic of justice and the Christian ethic of love this Legacy substantially unchanged has been the object of continual critical appropriation and reinterpretation to this day there's no alternative to it everything else is just Idol postmodern talk and it seems to me he's hitting the core of something important because the value of a human being on which such egalitarian is of is based not on what the human being can do\n",
      "\n",
      "7:59 but what she's made of or how she's made in God's image I never forget speaking when on one of my many visits to Russia to a colleague in the Academy of Sciences and he said you know John we thought we could abolish God and retain a value for human beings we found we couldn't and we murdered millions of them and Alexander suiton has said if I'm ask why is it that 60 million of my fellow countrymen\n",
      "\n",
      "8:30 were sacrificed he said the answer is we have forgotten God science of course marvelous that it is is limited even a Nobel Prize winner by analyzing a cake cannot tell why it was made but aunt Matilda who made it can tell you she can reveal it to you but if she doesn't reveal it to you you'll never know and that brings me to be my next evidence it's the same with the universe we can analyze it\n",
      "\n",
      "9:02 magnificently But ultimately if it has a maker and I believe it has only he can tell us what it's all about and he's done so in the powerful Narrative of the Bible in particular in its analysis of the problem with Humanity not simply in terms of Behavioral breakdown between people but a vertical breakdown of trust between us and the Creator the unique solution to that problem is not simply in terms of human ethical development although that's very\n",
      "\n",
      "9:35 important but in terms of something far deeper altto together the restoration of the fractured relationship with God through the Salvation he has brought through Jesus Christ a radical relationship that empowers us to live ethically from God and here we reach what for me is a chief evidence not only for the Existence but the nature of God it is Jesus Christ he it was who not only taught the Golden Rule but embodied it fed the hungry healed the sick and\n",
      "\n",
      "10:06 suffering and welcomed society's outcasts brought honor and respect to the marginalized and ashamed and he's brought forgiveness and peace to multi-millions uh around the world he's able to do this of course because though he was a man he uniquely never was only a man but God become human the central evidence for this startling claim is of course his historical Resurrection from the dead that launched\n",
      "\n",
      "10:39 Christianity in the world this is of course ladies and gentlemen a crunch issue if Jesus rose from the dead death is not the end and Atheism is false if Jesus did rise did did not rise from the dead Christianity is false and I remember at Cambridge as a student listening to the brilliant sir nor Anderson a legal expert going through forensically the evidence from his legal perspective as a a brilliant lawyer and he said at the end of it the empty tomb\n",
      "\n",
      "11:12 then of Jesus forms a veritable rock on which all rationalistic theories of the Resurrection Dash themselves in vain just finally now as I read the Bible I do not only find intellectual satisfaction but I find a great deal of that I sense The Voice of God speaking to me you see that's intensely personal but ladies and gentlemen we've been asked tonight about belief in God and I want to strongly emphasize that God is not a theory he's a person and if the\n",
      "\n",
      "11:44 origination of meqa person is a personal God then the most exciting thing really is is there a possibility of getting to know God and so I don't simply believe there is a God I've come to know him and trust him and I have strong reasons for doing so because of Christ dying and Rising again from me and that has generated in me a sense of utterly unmar forgiveness acceptance and peace that has enabled me\n",
      "\n",
      "12:16 to face the ugly side of my own nature and with God's help to do something about it but it's enabled me to face something else the hardest problem I face as a Christian is the problem of evil and pain my niece getting a tumor at 22 that kills her what do I say to my sister and this is the hardest problem we face but it seems to me that atheism here has no answer because by definition atheism\n",
      "\n",
      "12:49 believes that human death is the end so there is no ultimate hope but you see ladies and gentlemen we could stay here till midnight and Beyond arguing as has been done in this University for centuries what a good god should might would could if not possibly might just could he not have done and we'll get nowhere so it seems to me there's another question we can ask and it's this granted that life is presents us with a double picture we see some\n",
      "\n",
      "13:23 beautiful things we see some ragged edges we see hurt and pain and we see Joy how can we come to terms with that and it seems to me here is no simplistic answer but a window into an answer and it's this if it is actually true that Jesus is as I believe him to be the Son of God then we can ask the question what is God doing on a cross and the answer comes back at the very least God is Not remain distant\n",
      "\n",
      "13:54 from our human suffering but has become part of it and the other side of that is this because Jesus rose from the dead he is going to be the ultimate judge now here's an irony because atheism has no ultimate hope of Justice by definition the vast majority of people in the history of the world have died without Justice and will die without Justice and if death is the end then of course they have no hope of ultimate justice but the\n",
      "\n",
      "14:26 promise in the New Testament guaranteed by the resurrection of Jesus is that he is to be the judge in the coming day so ladies and gentlemen those are some of the reasons why I believe that God is real and worthy to be trusted thank you when Christians talk about God it is personal it's not fantasy it's not the spaghetti monster in the sky there is a reality of God when when you have accepted him on his terms that is completely undeniable\n",
      "\n",
      "14:58 it is as undeniable as my relationship with my wife in the other room if if you were to tell me that she's not real I would laugh at you in the same way that if you were to tell me that God is not real but that type of knowing is not accessible to someone who hasn't met God on his terms there's this this conceit and this arrogance that actually gets directly in the way of the knowing of God and the relationship of God and so I just love what Linux says here because he starts with sort of unpacking like why is scientism the philosophy of science as the only epistemology why is\n",
      "\n",
      "15:30 that reductionistic then he walks into human rights into morality and and ultimately down to the extremely personal level which is where all of these conversations must end so um all this being said I hope that someone uh listening to this if anyone is still listening to this appreciated that as much as I did because I think that it's a mistake to break apart these pieces and to only talk about this to only talk about this a lot of my videos focus on like the the moral case for God but really it is like this tapestry where all of these threads are connected together in this you know this Christian\n",
      "\n",
      "16:02 world view and it's when the threads are working together and you can see the whole I think Linux does a phenomenal job in this of of beginning to reveal that picture of reality all that being said I hope you guys like this video and I'll see you in the next one thanks bye [Music] Watch later Private Brian Blais 24 / 24\n"
     ]
    }
   ],
   "source": [
    "print(NS)"
   ]
  },
  {
   "cell_type": "code",
   "execution_count": null,
   "id": "b7fc4810-a1d5-4016-9a0c-8c93db7f784c",
   "metadata": {},
   "outputs": [],
   "source": []
  }
 ],
 "metadata": {
  "kernelspec": {
   "display_name": "Python 3 (ipykernel)",
   "language": "python",
   "name": "python3"
  },
  "language_info": {
   "codemirror_mode": {
    "name": "ipython",
    "version": 3
   },
   "file_extension": ".py",
   "mimetype": "text/x-python",
   "name": "python",
   "nbconvert_exporter": "python",
   "pygments_lexer": "ipython3",
   "version": "3.12.6"
  }
 },
 "nbformat": 4,
 "nbformat_minor": 5
}
