{
 "cells": [
  {
   "cell_type": "code",
   "execution_count": 10,
   "metadata": {},
   "outputs": [
    {
     "name": "stdout",
     "output_type": "stream",
     "text": [
      "366\n"
     ]
    }
   ],
   "source": [
    "with open('bblaisontheweb-2019-01-24T14_54_12.007312-links.csv') as fid:\n",
    "    all_lines=fid.readlines()\n",
    "    \n",
    "print(len(all_lines))"
   ]
  },
  {
   "cell_type": "code",
   "execution_count": 28,
   "metadata": {},
   "outputs": [
    {
     "name": "stdout",
     "output_type": "stream",
     "text": [
      "297\n"
     ]
    }
   ],
   "source": [
    "lines=[line for line in all_lines if \n",
    "       line.startswith('https://bblais.github.io') or \n",
    "       line.startswith('http://bblais.github.io')]\n",
    "\n",
    "lines=[line for line in lines if not 'nikola' in line]\n",
    "\n",
    "print(len(lines))"
   ]
  },
  {
   "cell_type": "code",
   "execution_count": 29,
   "metadata": {},
   "outputs": [],
   "source": [
    "lines=[line.strip().split('?')[0] for line in lines]"
   ]
  },
  {
   "cell_type": "code",
   "execution_count": 30,
   "metadata": {},
   "outputs": [
    {
     "data": {
      "text/plain": [
       "'https://bblais.github.io/student-course-evaluations.html'"
      ]
     },
     "execution_count": 30,
     "metadata": {},
     "output_type": "execute_result"
    }
   ],
   "source": [
    "lines[0]"
   ]
  },
  {
   "cell_type": "code",
   "execution_count": 31,
   "metadata": {},
   "outputs": [
    {
     "name": "stdout",
     "output_type": "stream",
     "text": [
      "about.html                index16.html              index30.html\n",
      "archives.html             index17.html              index4.html\n",
      "categories.html           index18.html              index5.html\n",
      "\u001b[34mcategory\u001b[m\u001b[m/                 index19.html              index6.html\n",
      "contact.html              index2.html               index7.html\n",
      "\u001b[34mdrafts\u001b[m\u001b[m/                   index20.html              index8.html\n",
      "favicon.ico               index21.html              index9.html\n",
      "\u001b[34mfeeds\u001b[m\u001b[m/                    index22.html              \u001b[34mpages\u001b[m\u001b[m/\n",
      "\u001b[34mimages\u001b[m\u001b[m/                   index23.html              \u001b[34mposts\u001b[m\u001b[m/\n",
      "index.html                index24.html              search.html\n",
      "index10.html              index25.html              sitemap.xml\n",
      "index11.html              index26.html              \u001b[34mstatic\u001b[m\u001b[m/\n",
      "index12.html              index27.html              \u001b[34mtag\u001b[m\u001b[m/\n",
      "index13.html              index28.html              thanks.html\n",
      "index14.html              index29.html              \u001b[34mtheme\u001b[m\u001b[m/\n",
      "index15.html              index3.html               tipuesearch_content.json\n"
     ]
    }
   ],
   "source": [
    "ls ../output/"
   ]
  },
  {
   "cell_type": "code",
   "execution_count": 43,
   "metadata": {},
   "outputs": [
    {
     "name": "stdout",
     "output_type": "stream",
     "text": [
      "https://bblais.github.io/pages/presentations.html ==> None\n",
      "https://bblais.github.io/statistical-inference-for-everyone.html ==> None\n",
      "https://bblais.github.io/this-is-a-test.html ==> None\n",
      "https://bblais.github.io/pages/publications.html ==> None\n",
      "https://bblais.github.io/pages/projects.html ==> None\n",
      "https://bblais.github.io/bblais-on-the-web.html ==> None\n",
      "https://bblais.github.io/home.html ==> None\n",
      "https://bblais.github.io/physics-and-flash-mind-reader.html ==> None\n",
      "https://bblais.github.io/a-close-shave.html ==> None\n",
      "https://bblais.github.io/my-first-review.html ==> None\n",
      "https://bblais.github.io/football-statistics-and-inference.html ==> None\n"
     ]
    }
   ],
   "source": [
    "import fnmatch\n",
    "import os\n",
    "\n",
    "with open('migration.csv','w') as fid:\n",
    "\n",
    "\n",
    "    for line in lines:\n",
    "        if line.endswith('/'):\n",
    "            slug=line.split('/')[-2]\n",
    "        else:\n",
    "            slug=line.split('/')[-1]\n",
    "\n",
    "        slug=slug.split('.html')[0]\n",
    "\n",
    "\n",
    "        matches = []\n",
    "\n",
    "        if '/pages/' in line:\n",
    "            walk='../output/pages/'\n",
    "        else:\n",
    "            walk='../output/posts/'\n",
    "\n",
    "        for root, dirnames, filenames in os.walk(walk):\n",
    "            for filename in fnmatch.filter(filenames, slug):\n",
    "                matches.append(os.path.join(root, filename))\n",
    "            for dirname in fnmatch.filter(dirnames, slug):\n",
    "                matches.append(os.path.join(root, dirname))\n",
    "\n",
    "        if len(matches)==1:\n",
    "            match=matches[0].replace('../output/','https://bblais.github.io/')\n",
    "            fid.write('%s,%s\\n' % (line,match))\n",
    "            #print(line,'==>',match)\n",
    "        elif len(matches)==0:\n",
    "            print(line,'==>',None)\n",
    "            fid.write('%s,%s\\n' % (line,' '))\n",
    "        else:\n",
    "            raise ValueError(\"More than one match for \",line)"
   ]
  },
  {
   "cell_type": "code",
   "execution_count": null,
   "metadata": {},
   "outputs": [],
   "source": []
  }
 ],
 "metadata": {
  "kernelspec": {
   "display_name": "Python 3",
   "language": "python",
   "name": "python3"
  },
  "language_info": {
   "codemirror_mode": {
    "name": "ipython",
    "version": 3
   },
   "file_extension": ".py",
   "mimetype": "text/x-python",
   "name": "python",
   "nbconvert_exporter": "python",
   "pygments_lexer": "ipython3",
   "version": "3.6.5"
  }
 },
 "nbformat": 4,
 "nbformat_minor": 2
}
